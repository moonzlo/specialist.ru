{
 "cells": [
  {
   "cell_type": "markdown",
   "metadata": {
    "slideshow": {
     "slide_type": "-"
    }
   },
   "source": [
    "# Модуль 1. Объектно-Ориентированное Программирование\n",
    "## Фундаментальные основы"
   ]
  },
  {
   "cell_type": "markdown",
   "metadata": {
    "slideshow": {
     "slide_type": "-"
    }
   },
   "source": [
    "## Практикум"
   ]
  },
  {
   "cell_type": "markdown",
   "metadata": {
    "slideshow": {
     "slide_type": "-"
    }
   },
   "source": [
    "### Ваше решение"
   ]
  },
  {
   "cell_type": "code",
   "execution_count": 2,
   "metadata": {},
   "outputs": [],
   "source": [
    "class Point:\n",
    "    \n",
    "    def __init__(self, x: int, y: int):\n",
    "        \"\"\"\n",
    "        конструктор, который принимает в качестве параметров значения для координат x и y\n",
    "        \"\"\"\n",
    "        self._x = x\n",
    "        self._y = y\n",
    "        \n",
    "        \n",
    "    def move_to(self, x: int, y: int):\n",
    "        \"\"\"\n",
    "        метод move_to, который принимает в качестве параметров новые значения для координат x и y\n",
    "        \"\"\"\n",
    "        self._x = x\n",
    "        self._y = y\n",
    "    \n",
    "    \n",
    "    def move_by(self, x: int, y: int):\n",
    "        \"\"\"\n",
    "        метод move_by, который принимает в качестве параметров новые значения для координат x и y \n",
    "        относительно текущих\n",
    "        \"\"\"\n",
    "        self._x += x\n",
    "        self._y += y\n",
    "        \n",
    "        \n",
    "#свойства для изменения и получения значений координат x и y    \n",
    "#     def get_x(self) -> int:\n",
    "#         return self._x\n",
    "    \n",
    "#     def set_x(self, x: int):\n",
    "#         self._x = x\n",
    "        \n",
    "#     def get_y(self) -> int:\n",
    "#         return self._y\n",
    "    \n",
    "#     def set_y(self, y: int):\n",
    "#         self._y = y\n",
    "    \n",
    "#     x = property(get_x, set_x)\n",
    "#     y = property(get_y, set_y)\n",
    "    \n",
    "    \n",
    "    # альтернативная реализация на декораторах\n",
    "    @property\n",
    "    def x(self):\n",
    "        return self._x\n",
    "    \n",
    "    @x.setter\n",
    "    def x(self, x):\n",
    "        self._x = x\n",
    "        \n",
    "    @property\n",
    "    def y(self):\n",
    "        return self._y\n",
    "    \n",
    "    @y.setter\n",
    "    def y(self, y):\n",
    "        self._y = y\n",
    "    \n",
    "    def __repr__(self):\n",
    "        return f'Я - точка: {self._x} x {self._y}'"
   ]
  },
  {
   "cell_type": "markdown",
   "metadata": {},
   "source": [
    "### Самопроверка"
   ]
  },
  {
   "cell_type": "code",
   "execution_count": 3,
   "metadata": {
    "slideshow": {
     "slide_type": "-"
    }
   },
   "outputs": [
    {
     "name": "stdout",
     "output_type": "stream",
     "text": [
      "Я - точка: 10 x 20\n",
      "100  :  200\n",
      "110  :  220\n",
      "Я - точка: 30 x 40\n"
     ]
    }
   ],
   "source": [
    "point = Point(10, 20)\n",
    "print(point)\n",
    "\n",
    "point.move_to(100, 200)\n",
    "print(point.x, ' : ', point.y)\n",
    "\n",
    "point.move_by(10, 20)\n",
    "print(point.x, ' : ', point.y)\n",
    "\n",
    "point.x = 30\n",
    "point.y = 40\n",
    "print(point)"
   ]
  }
 ],
 "metadata": {
  "kernelspec": {
   "display_name": "Python 3",
   "language": "python",
   "name": "python3"
  },
  "language_info": {
   "codemirror_mode": {
    "name": "ipython",
    "version": 3
   },
   "file_extension": ".py",
   "mimetype": "text/x-python",
   "name": "python",
   "nbconvert_exporter": "python",
   "pygments_lexer": "ipython3",
   "version": "3.7.3"
  }
 },
 "nbformat": 4,
 "nbformat_minor": 2
}
