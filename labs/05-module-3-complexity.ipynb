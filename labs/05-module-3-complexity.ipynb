{
 "cells": [
  {
   "cell_type": "markdown",
   "metadata": {
    "slideshow": {
     "slide_type": "-"
    }
   },
   "source": [
    " # Модуль 3. Алгоритмы\n",
    "## Сложность алгоритмов"
   ]
  },
  {
   "cell_type": "markdown",
   "metadata": {
    "slideshow": {
     "slide_type": "-"
    }
   },
   "source": [
    "### Мини практикум\n",
    "#### Какова сложность алгоритмов?\n"
   ]
  },
  {
   "cell_type": "code",
   "execution_count": null,
   "metadata": {},
   "outputs": [],
   "source": [
    "def one(array):\n",
    "    result = 0;\n",
    "    for i in array:\n",
    "        for j in array:\n",
    "            result += i * j\n",
    "    return result"
   ]
  },
  {
   "cell_type": "markdown",
   "metadata": {},
   "source": [
    "O(n^2)"
   ]
  },
  {
   "cell_type": "code",
   "execution_count": null,
   "metadata": {},
   "outputs": [],
   "source": [
    "def two(array):\n",
    "    result = 0\n",
    "    for i in array:\n",
    "        result += 1\n",
    "    for j in array:\n",
    "        result -= 1\n",
    "    return result"
   ]
  },
  {
   "cell_type": "markdown",
   "metadata": {},
   "source": [
    "O(n)"
   ]
  },
  {
   "cell_type": "code",
   "execution_count": null,
   "metadata": {},
   "outputs": [],
   "source": [
    "def three(n):\n",
    "    while n > 0:\n",
    "        i += 2\n",
    "        n //= 2\n",
    "    return i;"
   ]
  },
  {
   "cell_type": "markdown",
   "metadata": {},
   "source": [
    "O(logn)"
   ]
  },
  {
   "cell_type": "code",
   "execution_count": null,
   "metadata": {},
   "outputs": [],
   "source": [
    "def four(n):\n",
    "    for i in range(n):\n",
    "        j = 0\n",
    "        cnt = 50*n\n",
    "        the_sum = 0\n",
    "        while j<cnt:\n",
    "            j += 1\n",
    "            the_sum += 1\n",
    "    return the_sum"
   ]
  },
  {
   "cell_type": "markdown",
   "metadata": {},
   "source": [
    "O(n^2)"
   ]
  },
  {
   "cell_type": "code",
   "execution_count": null,
   "metadata": {},
   "outputs": [],
   "source": [
    "def five(n): \n",
    "    for i in range(n):\n",
    "        while i % 2 != 0: \n",
    "            print(i)\n",
    "            i -= 1 \n",
    "        print(\"Done\")"
   ]
  },
  {
   "cell_type": "markdown",
   "metadata": {},
   "source": [
    "O(n)"
   ]
  },
  {
   "cell_type": "code",
   "execution_count": null,
   "metadata": {},
   "outputs": [],
   "source": [
    "def six(n): \n",
    "    for i in range(n):\n",
    "        cnt = n * n\n",
    "        for j in range(cnt):\n",
    "            if j == 4: \n",
    "                return -1 \n",
    "            print(\"Done\")"
   ]
  },
  {
   "cell_type": "markdown",
   "metadata": {},
   "source": [
    "O(1)\n",
    "\n",
    "Нахождение анаграммы O(n)"
   ]
  },
  {
   "cell_type": "code",
   "execution_count": null,
   "metadata": {},
   "outputs": [],
   "source": [
    "def anagram(s1, s2):\n",
    "    template = {}\n",
    "    for x in s1:\n",
    "        value = template.get(x)\n",
    "        if value == None:\n",
    "            template[x] = 1\n",
    "        else:\n",
    "            num = value + 1\n",
    "            template.update({x: num})\n",
    "            \n",
    "    template2 = {}\n",
    "    for x in s2:\n",
    "        value2 = template2.get(x)\n",
    "        if value2 == None:\n",
    "            template2[x] = 1\n",
    "        else:\n",
    "            num = value2 + 1\n",
    "            template2.update({x: num})\n",
    "    \n",
    "            \n",
    "    return template == template2"
   ]
  }
 ],
 "metadata": {
  "kernelspec": {
   "display_name": "Python 3",
   "language": "python",
   "name": "python3"
  },
  "language_info": {
   "codemirror_mode": {
    "name": "ipython",
    "version": 3
   },
   "file_extension": ".py",
   "mimetype": "text/x-python",
   "name": "python",
   "nbconvert_exporter": "python",
   "pygments_lexer": "ipython3",
   "version": "3.7.3"
  }
 },
 "nbformat": 4,
 "nbformat_minor": 2
}
