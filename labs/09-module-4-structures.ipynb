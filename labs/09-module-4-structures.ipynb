{
 "cells": [
  {
   "cell_type": "markdown",
   "metadata": {
    "slideshow": {
     "slide_type": "-"
    }
   },
   "source": [
    "# Модуль 4. Структуры данных\n",
    "## Основные структуры данных"
   ]
  },
  {
   "cell_type": "markdown",
   "metadata": {
    "slideshow": {
     "slide_type": "-"
    }
   },
   "source": [
    "## Практикум"
   ]
  },
  {
   "cell_type": "code",
   "execution_count": 1,
   "metadata": {},
   "outputs": [],
   "source": [
    "class Node:\n",
    "    \n",
    "    def __init__(self, data):\n",
    "        self.__head = None\n",
    "        self.__data = data\n",
    "        \n",
    "    def get_data(self):\n",
    "        return self.__data\n",
    "\n",
    "    def set_data(self, data):\n",
    "        self.__data = data\n",
    "\n",
    "    data = property(get_data, set_data)\n",
    "\n",
    "    def get_next(self):\n",
    "        return self.__next\n",
    "\n",
    "    def set_next(self, node):\n",
    "        self.__next = node\n",
    "\n",
    "    next = property(get_next, set_next)"
   ]
  },
  {
   "cell_type": "markdown",
   "metadata": {},
   "source": [
    "### Ваше решение"
   ]
  },
  {
   "cell_type": "code",
   "execution_count": 73,
   "metadata": {},
   "outputs": [],
   "source": [
    "class LinkedList:\n",
    "\n",
    "    def __init__(self):\n",
    "        self.__head = None\n",
    "        self.last = None\n",
    "\n",
    "    def is_empty(self):\n",
    "        return self.__head is None\n",
    "\n",
    "    def add(self, data):\n",
    "        node = Node(data)\n",
    "        if self.__head is None:\n",
    "            self.last = node\n",
    "            node.next = self.__head\n",
    "            self.__head = node\n",
    "        else:\n",
    "            node.next = self.__head\n",
    "            self.__head = node\n",
    "\n",
    "    def size(self):\n",
    "        current = self.__head\n",
    "        count = 0\n",
    "        while current != None:\n",
    "            current = current.next\n",
    "            count += 1\n",
    "\n",
    "        return count\n",
    "\n",
    "    def search(self, item):\n",
    "        current = self.__head\n",
    "\n",
    "        while current != None:\n",
    "            if current.data == item:\n",
    "                return True\n",
    "            current = current.next\n",
    "\n",
    "        return False\n",
    "\n",
    "    def remove(self, item):\n",
    "        current = self.__head\n",
    "        prew = None\n",
    "\n",
    "        while True:\n",
    "            if current.data == item:\n",
    "                break\n",
    "\n",
    "            prew = current\n",
    "            current = current.next\n",
    "\n",
    "        if prew is None:\n",
    "            self.__head = current.next\n",
    "            \n",
    "        elif current.next is None:\n",
    "            prew.next = None\n",
    "            self.last = prew\n",
    "            \n",
    "            \n",
    "\n",
    "        else:\n",
    "            prew.next = current.next\n",
    "\n",
    "    def append(self, item):\n",
    "        new_node = Node(item)\n",
    "        new_node.next = None\n",
    "        self.last.next = new_node\n",
    "        self.last = new_node\n",
    "\n",
    "    def index(self, item):\n",
    "        current = self.__head\n",
    "        count = 0\n",
    "        while current != None:\n",
    "            if current.data == item:\n",
    "                return count\n",
    "\n",
    "            else:\n",
    "                current = current.next\n",
    "                count += 1\n",
    "\n",
    "    def pop(self, pos=None):\n",
    "        my_len = self.size()\n",
    "\n",
    "        if pos is None:\n",
    "            current = self.__head\n",
    "            value = current.next\n",
    "\n",
    "            while current.next != self.last:\n",
    "                current = current.next\n",
    "                value = current.next\n",
    "\n",
    "            current.next = None\n",
    "            self.last = current\n",
    "            return value.data\n",
    "\n",
    "        elif type(pos) == int:\n",
    "\n",
    "            if 0 <= pos <= my_len:\n",
    "                position = 0\n",
    "                current = self.__head\n",
    "                prew = None\n",
    "\n",
    "                while current != None:\n",
    "                    if position == pos:\n",
    "                        if prew is None:\n",
    "                            self.__head = current.next\n",
    "                            return current.data\n",
    "\n",
    "                        else:\n",
    "                            prew.next = current.next\n",
    "                            return current.data\n",
    "\n",
    "                    prew = current\n",
    "                    current = current.next\n",
    "                    position += 1\n",
    "\n",
    "                if prew is None:\n",
    "                    self.__head = current.next\n",
    "\n",
    "                else:\n",
    "                    prew.next = current.next\n",
    "            else:\n",
    "                raise IndexError('Index does not exist')\n",
    "        else:\n",
    "            raise IndexError('Index must be integer')\n",
    "\n",
    "    def insert(self, pos, item):\n",
    "        my_len = self.size()\n",
    "        \n",
    "        if 0 <= pos <= my_len:\n",
    "                new = Node(item)\n",
    "                position = 0\n",
    "                current = self.__head\n",
    "                prew = None\n",
    "\n",
    "                while position != pos:\n",
    "                    prew = current\n",
    "                    current = current.next\n",
    "                    position += 1\n",
    "\n",
    "                if prew is None:\n",
    "                    new.next = self.__head\n",
    "                    self.__head = new\n",
    "                    \n",
    "                elif not isinstance(current, Node):\n",
    "                    new_node = Node(item)\n",
    "                    new_node.next = None\n",
    "                    self.last.next = new_node\n",
    "                    self.last = new_node\n",
    "\n",
    "                else:\n",
    "                    prew.next = new\n",
    "                    new.next = current\n",
    "                    \n",
    "\n",
    "                    \n",
    "        else:\n",
    "            raise IndexError('Index does not exist')\n",
    "    \n",
    "    def __iter__(self):\n",
    "        current = self.__head\n",
    "        while current != None:\n",
    "            yield current.data\n",
    "            current = current.next\n"
   ]
  },
  {
   "cell_type": "code",
   "execution_count": 74,
   "metadata": {},
   "outputs": [
    {
     "data": {
      "text/plain": [
       "True"
      ]
     },
     "execution_count": 74,
     "metadata": {},
     "output_type": "execute_result"
    }
   ],
   "source": [
    "linkid_list = LinkedList()\n",
    "linkid_list.is_empty()"
   ]
  },
  {
   "cell_type": "code",
   "execution_count": 75,
   "metadata": {},
   "outputs": [
    {
     "name": "stdout",
     "output_type": "stream",
     "text": [
      "False\n",
      "5\n"
     ]
    }
   ],
   "source": [
    "linkid_list.add(1)\n",
    "linkid_list.add(2)\n",
    "linkid_list.add(3)\n",
    "linkid_list.add(4)\n",
    "linkid_list.add(5)\n",
    "print(linkid_list.is_empty())\n",
    "print(linkid_list.size())"
   ]
  },
  {
   "cell_type": "code",
   "execution_count": 76,
   "metadata": {},
   "outputs": [
    {
     "name": "stdout",
     "output_type": "stream",
     "text": [
      "5\n",
      "4\n",
      "3\n",
      "2\n",
      "1\n"
     ]
    }
   ],
   "source": [
    "for i in linkid_list:\n",
    "    print(i)"
   ]
  },
  {
   "cell_type": "code",
   "execution_count": 77,
   "metadata": {},
   "outputs": [
    {
     "name": "stdout",
     "output_type": "stream",
     "text": [
      "True\n",
      "True\n",
      "0\n",
      "4\n"
     ]
    }
   ],
   "source": [
    "print(linkid_list.search(5))\n",
    "print(linkid_list.search(1))\n",
    "print(linkid_list.index(5))\n",
    "print(linkid_list.index(1))"
   ]
  },
  {
   "cell_type": "code",
   "execution_count": 78,
   "metadata": {},
   "outputs": [
    {
     "name": "stdout",
     "output_type": "stream",
     "text": [
      "начало\n",
      "5\n",
      "4\n",
      "3\n",
      "2\n",
      "1\n",
      "конец\n"
     ]
    }
   ],
   "source": [
    "linkid_list.add('начало')\n",
    "linkid_list.append('конец')\n",
    "for i in linkid_list:\n",
    "    print(i)"
   ]
  },
  {
   "cell_type": "code",
   "execution_count": 79,
   "metadata": {},
   "outputs": [
    {
     "name": "stdout",
     "output_type": "stream",
     "text": [
      "в начало\n",
      "начало\n",
      "5\n",
      "4\n",
      "3\n",
      "2\n",
      "1\n",
      "конец\n",
      "в конец\n"
     ]
    }
   ],
   "source": [
    "linkid_list.insert(0, 'в начало')\n",
    "linkid_list.insert(8, 'в конец')\n",
    "for i in linkid_list:\n",
    "    print(i)"
   ]
  },
  {
   "cell_type": "code",
   "execution_count": 80,
   "metadata": {},
   "outputs": [
    {
     "name": "stdout",
     "output_type": "stream",
     "text": [
      "начало\n",
      "5\n",
      "4\n",
      "3\n",
      "2\n",
      "1\n",
      "конец\n"
     ]
    }
   ],
   "source": [
    "linkid_list.remove('в начало')\n",
    "linkid_list.remove('в конец')\n",
    "for i in linkid_list:\n",
    "    print(i)"
   ]
  },
  {
   "cell_type": "code",
   "execution_count": 84,
   "metadata": {},
   "outputs": [
    {
     "name": "stdout",
     "output_type": "stream",
     "text": [
      "конец\n",
      "начало\n"
     ]
    }
   ],
   "source": [
    "print(linkid_list.pop())\n",
    "print(linkid_list.pop(0))\n",
    "linkid_list.add('старта')\n",
    "linkid_list.append('финал')"
   ]
  },
  {
   "cell_type": "code",
   "execution_count": 85,
   "metadata": {},
   "outputs": [
    {
     "name": "stdout",
     "output_type": "stream",
     "text": [
      "старта\n",
      "5\n",
      "4\n",
      "3\n",
      "2\n",
      "1\n",
      "финал\n"
     ]
    }
   ],
   "source": [
    "for i in linkid_list:\n",
    "    print(i)"
   ]
  }
 ],
 "metadata": {
  "kernelspec": {
   "display_name": "Python 3",
   "language": "python",
   "name": "python3"
  },
  "language_info": {
   "codemirror_mode": {
    "name": "ipython",
    "version": 3
   },
   "file_extension": ".py",
   "mimetype": "text/x-python",
   "name": "python",
   "nbconvert_exporter": "python",
   "pygments_lexer": "ipython3",
   "version": "3.7.3"
  }
 },
 "nbformat": 4,
 "nbformat_minor": 2
}
