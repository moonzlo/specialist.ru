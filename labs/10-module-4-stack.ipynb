{
 "cells": [
  {
   "cell_type": "markdown",
   "metadata": {
    "slideshow": {
     "slide_type": "-"
    }
   },
   "source": [
    "# Модуль 4. Стрктуры данных\n",
    "## Абстрактные структуры данных: Стек"
   ]
  },
  {
   "cell_type": "markdown",
   "metadata": {
    "slideshow": {
     "slide_type": "-"
    }
   },
   "source": [
    "## Практикум"
   ]
  },
  {
   "cell_type": "markdown",
   "metadata": {},
   "source": [
    "### Ваше решение"
   ]
  },
  {
   "cell_type": "code",
   "execution_count": 5,
   "metadata": {},
   "outputs": [],
   "source": [
    "class Stack:\n",
    "\n",
    "    def __init__(self):\n",
    "        self.__data = list()\n",
    "\n",
    "    def push(self, value):\n",
    "        self.__data.append(value)\n",
    "\n",
    "    def pop(self):\n",
    "        if len(self.__data) > 0:\n",
    "            return self.__data.pop()\n",
    "\n",
    "        return None\n",
    "\n",
    "    def top(self):  # peek\n",
    "        if len(self.__data) > 0:\n",
    "            return self.__data[-1]\n",
    "\n",
    "        return None\n",
    "\n",
    "    def is_empty(self):\n",
    "        return len(self.__data) == 0\n",
    "\n",
    "    def size(self, ):\n",
    "        return len(self.__data)\n",
    "\n",
    "    def clear(self, ):\n",
    "        self.__data = list()\n",
    "\n",
    "    def __repr__(self):\n",
    "        arry = [str(val) for val in self.__data]\n",
    "        arry.reverse()\n",
    "        return '\\n'.join(arry)\n",
    "\n",
    "def wagonsSortingV1(wagons):\n",
    "    good = []\n",
    "    depo = Stack()\n",
    "    wagons = wagons.split(' ')\n",
    "    wagons = [int(item) for item in wagons]\n",
    "\n",
    "    for i in wagons:\n",
    "        if len(good) == 0:\n",
    "            if i == 1:\n",
    "                print(f'Ввели: {i}')\n",
    "                depo.push(i)\n",
    "                print(f'Вывели: {i}')\n",
    "                good.append(depo.pop())\n",
    "            else:\n",
    "                print(f'Ввели: {i}')\n",
    "                depo.push(i)\n",
    "\n",
    "        else:\n",
    "            if i == good[-1] + 1:\n",
    "                print(f'Ввели: {i}')\n",
    "                depo.push(i)\n",
    "                print(f'Вывели: {i}')\n",
    "                good.append(depo.pop())\n",
    "            else:\n",
    "                print(f'Ввели: {i}')\n",
    "                depo.push(i)\n",
    "\n",
    "    for _ in range(depo.size()):\n",
    "        i = depo.pop()\n",
    "        print(f'Вывели: {i}')\n",
    "        good.append(i)\n",
    "\n",
    "    if sorted(wagons) == good:\n",
    "        return 'Вывели'\n",
    "    else:\n",
    "        return 'Не получилось'"
   ]
  },
  {
   "cell_type": "code",
   "execution_count": 6,
   "metadata": {},
   "outputs": [
    {
     "name": "stdout",
     "output_type": "stream",
     "text": [
      "Ввели: 3\n",
      "Ввели: 2\n",
      "Ввели: 1\n",
      "Вывели: 1\n",
      "Вывели: 2\n",
      "Вывели: 3\n"
     ]
    },
    {
     "data": {
      "text/plain": [
       "'Вывели'"
      ]
     },
     "execution_count": 6,
     "metadata": {},
     "output_type": "execute_result"
    }
   ],
   "source": [
    "wagonsSortingV1('3 2 1')"
   ]
  },
  {
   "cell_type": "code",
   "execution_count": 7,
   "metadata": {},
   "outputs": [
    {
     "name": "stdout",
     "output_type": "stream",
     "text": [
      "Ввели: 4\n",
      "Ввели: 1\n",
      "Вывели: 1\n",
      "Ввели: 3\n",
      "Ввели: 2\n",
      "Вывели: 2\n",
      "Вывели: 3\n",
      "Вывели: 4\n"
     ]
    },
    {
     "data": {
      "text/plain": [
       "'Вывели'"
      ]
     },
     "execution_count": 7,
     "metadata": {},
     "output_type": "execute_result"
    }
   ],
   "source": [
    "wagonsSortingV1('4 1 3 2')"
   ]
  },
  {
   "cell_type": "code",
   "execution_count": 8,
   "metadata": {},
   "outputs": [
    {
     "name": "stdout",
     "output_type": "stream",
     "text": [
      "Ввели: 2\n",
      "Ввели: 3\n",
      "Ввели: 1\n",
      "Вывели: 1\n",
      "Вывели: 3\n",
      "Вывели: 2\n"
     ]
    },
    {
     "data": {
      "text/plain": [
       "'Не получилось'"
      ]
     },
     "execution_count": 8,
     "metadata": {},
     "output_type": "execute_result"
    }
   ],
   "source": [
    "wagonsSortingV1('2 3 1')"
   ]
  },
  {
   "cell_type": "markdown",
   "metadata": {
    "slideshow": {
     "slide_type": "-"
    }
   },
   "source": [
    "### Самопроверка"
   ]
  },
  {
   "cell_type": "code",
   "execution_count": null,
   "metadata": {
    "slideshow": {
     "slide_type": "-"
    }
   },
   "outputs": [],
   "source": [
    "# Введите последовательность: 3 2 1 и получите результат: 'Вывели'\n",
    "\n",
    "# Введите последовательность: 4 1 3 2 и получите результат: 'Вывели'\n",
    "\n",
    "# Введите последовательность: 2 3 1 и получите результат: 'Не получилось'"
   ]
  }
 ],
 "metadata": {
  "kernelspec": {
   "display_name": "Python 3",
   "language": "python",
   "name": "python3"
  },
  "language_info": {
   "codemirror_mode": {
    "name": "ipython",
    "version": 3
   },
   "file_extension": ".py",
   "mimetype": "text/x-python",
   "name": "python",
   "nbconvert_exporter": "python",
   "pygments_lexer": "ipython3",
   "version": "3.7.3"
  }
 },
 "nbformat": 4,
 "nbformat_minor": 2
}
