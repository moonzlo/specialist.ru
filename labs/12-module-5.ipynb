{
 "cells": [
  {
   "cell_type": "markdown",
   "metadata": {
    "slideshow": {
     "slide_type": "-"
    }
   },
   "source": [
    "# Модуль 5. Практическая работа"
   ]
  },
  {
   "cell_type": "markdown",
   "metadata": {
    "slideshow": {
     "slide_type": "-"
    }
   },
   "source": [
    "## Создание простого интерпретатора арифметических выражений"
   ]
  },
  {
   "cell_type": "markdown",
   "metadata": {
    "slideshow": {
     "slide_type": "-"
    }
   },
   "source": [
    "### Основное задание"
   ]
  },
  {
   "cell_type": "code",
   "execution_count": 1,
   "metadata": {
    "slideshow": {
     "slide_type": "-"
    }
   },
   "outputs": [],
   "source": [
    "import abc\n",
    "\n",
    "\n",
    "class Stack:\n",
    "\n",
    "    def __init__(self):\n",
    "        self.__data = list()\n",
    "\n",
    "    def push(self, value):\n",
    "        self.__data.append(value)\n",
    "\n",
    "    def pop(self):\n",
    "        if len(self.__data) > 0:\n",
    "            return self.__data.pop()\n",
    "\n",
    "        return None\n",
    "\n",
    "    def top(self):  # peek\n",
    "        if len(self.__data) > 0:\n",
    "            return self.__data[-1]\n",
    "\n",
    "        return None\n",
    "\n",
    "    def is_empty(self):\n",
    "        return len(self.__data) == 0\n",
    "\n",
    "    def size(self, ):\n",
    "        return len(self.__data)\n",
    "\n",
    "    def clear(self, ):\n",
    "        self.__data = list()\n",
    "\n",
    "    def __repr__(self):\n",
    "        arry = [str(val) for val in self.__data]\n",
    "        arry.reverse()\n",
    "        return '\\n'.join(arry)\n",
    "\n",
    "\n",
    "class InterpreterAbstract(abc.ABC):\n",
    "    '''Интерпретатор кода'''\n",
    "\n",
    "    def __init__(self, code):\n",
    "        '''Принимает код'''\n",
    "        self.code = code\n",
    "\n",
    "    def run(self):\n",
    "        '''\n",
    "        Возвращает результат исполнения кода'''\n",
    "        return self._parse(self.code)\n",
    "\n",
    "    @abc.abstractmethod\n",
    "    def _parse(self, code):\n",
    "        '''\n",
    "        Вызывает _evaluate для исполнения выражений\n",
    "        Возвращает результат исполнения кода в run'''\n",
    "        pass\n",
    "\n",
    "    @abc.abstractmethod\n",
    "    def _evaluate(self, code):\n",
    "        '''\n",
    "        Возвращает результат выражения в _parse'''\n",
    "        pass"
   ]
  },
  {
   "cell_type": "markdown",
   "metadata": {},
   "source": [
    "### Ваше решение"
   ]
  },
  {
   "cell_type": "code",
   "execution_count": 2,
   "metadata": {},
   "outputs": [],
   "source": [
    "class Interpreter(InterpreterAbstract):\n",
    "\n",
    "    def _parse(self, code):\n",
    "        stack = Stack()\n",
    "        nums = Stack()\n",
    "        operators = Stack()\n",
    "\n",
    "        for s in code:\n",
    "            if s == '(':\n",
    "                # начало выражения\n",
    "                stack.push('(')\n",
    "\n",
    "            elif s == ')':\n",
    "                # конец выражения\n",
    "                if stack.is_empty():\n",
    "                    return False\n",
    "\n",
    "                else:\n",
    "                    data = f'{nums.pop()}{operators.pop()}{nums.pop()}'\n",
    "                    nums.push(self._evaluate(data))\n",
    "                    stack.pop()\n",
    "\n",
    "            elif s.isdigit():\n",
    "                # Если цифра\n",
    "                nums.push(s)\n",
    "\n",
    "            else:\n",
    "                # Если оператор\n",
    "                operators.push(s)\n",
    "\n",
    "        stack.pop()\n",
    "\n",
    "        if stack.is_empty():\n",
    "            return int(nums.pop())\n",
    "\n",
    "        return False\n",
    "\n",
    "    def _evaluate(self, code):\n",
    "        return eval(code)"
   ]
  },
  {
   "cell_type": "markdown",
   "metadata": {},
   "source": [
    "### Самопроверка"
   ]
  },
  {
   "cell_type": "code",
   "execution_count": 3,
   "metadata": {},
   "outputs": [
    {
     "name": "stdout",
     "output_type": "stream",
     "text": [
      "101\n",
      "2\n"
     ]
    }
   ],
   "source": [
    "interpreter = Interpreter('(1+((2+3)*(4*5)))')\n",
    "print(interpreter.run()) # 101\n",
    "\n",
    "interpreter = Interpreter('(2+((2*3)/(4^5)))')\n",
    "print(interpreter.run()) # 2"
   ]
  },
  {
   "cell_type": "markdown",
   "metadata": {
    "slideshow": {
     "slide_type": "-"
    }
   },
   "source": [
    "### Дополнительно 1"
   ]
  },
  {
   "cell_type": "markdown",
   "metadata": {},
   "source": [
    "### Ваше решение"
   ]
  },
  {
   "cell_type": "code",
   "execution_count": 4,
   "metadata": {},
   "outputs": [],
   "source": [
    "class Interpreter(InterpreterAbstract):\n",
    "\n",
    "    def _parse(self, code):\n",
    "        code = list(code.replace(' ', ''))\n",
    "        code.insert(0, '(')\n",
    "        code.append(')')\n",
    "\n",
    "        stack = Stack()\n",
    "        nums = Stack()\n",
    "        operators = Stack()\n",
    "\n",
    "        for s in code:\n",
    "            if s == '(':\n",
    "                # начало выражения\n",
    "                stack.push('(')\n",
    "\n",
    "            elif s == ')':\n",
    "                # конец выражения\n",
    "                if stack.is_empty():\n",
    "                    return False\n",
    "\n",
    "                else:\n",
    "                    data = f'{nums.pop()}{operators.pop()}{nums.pop()}'\n",
    "                    nums.push(self._evaluate(data))\n",
    "                    stack.pop()\n",
    "\n",
    "            elif s.isdigit():\n",
    "                # Если цифра\n",
    "                nums.push(s)\n",
    "\n",
    "            else:\n",
    "                # если оператор\n",
    "                operators.push(s)\n",
    "\n",
    "        stack.pop()\n",
    "\n",
    "        if stack.is_empty():\n",
    "            return nums.pop()\n",
    "\n",
    "        return False\n",
    "\n",
    "    def _evaluate(self, code):\n",
    "        return eval(code)"
   ]
  },
  {
   "cell_type": "markdown",
   "metadata": {},
   "source": [
    "### Самопроверка"
   ]
  },
  {
   "cell_type": "code",
   "execution_count": 5,
   "metadata": {},
   "outputs": [
    {
     "name": "stdout",
     "output_type": "stream",
     "text": [
      "101\n"
     ]
    }
   ],
   "source": [
    "interpreter = Interpreter('1 + ( ( 2 + 3 ) * ( 4 * 5 ) )')\n",
    "print(interpreter.run())"
   ]
  },
  {
   "cell_type": "markdown",
   "metadata": {
    "slideshow": {
     "slide_type": "-"
    }
   },
   "source": [
    "### Дополнительно 2"
   ]
  },
  {
   "cell_type": "markdown",
   "metadata": {},
   "source": [
    "### Ваше решение"
   ]
  },
  {
   "cell_type": "code",
   "execution_count": 6,
   "metadata": {},
   "outputs": [],
   "source": [
    "class Interpreter(InterpreterAbstract):\n",
    "    \n",
    "    def _parse(self, code):\n",
    "        code = list(code.replace(' ', ''))\n",
    "        code.insert(0, '(')\n",
    "        code.append(')')\n",
    "        best_code = []\n",
    "        memory = ''\n",
    "\n",
    "        for index, data in enumerate(code):\n",
    "            \n",
    "            if data.isdigit():\n",
    "                \n",
    "                if code[index + 1].isdigit():\n",
    "                    memory += data\n",
    "                    \n",
    "                elif memory != '':\n",
    "                    memory += data\n",
    "                    best_code.append(memory)\n",
    "                    memory = ''\n",
    "                    \n",
    "                else:\n",
    "                    best_code.append(data)\n",
    "\n",
    "            else:\n",
    "                best_code.append(data)\n",
    "\n",
    "        code = best_code\n",
    "        stack = Stack()\n",
    "        nums = Stack()\n",
    "        operators = Stack()\n",
    "\n",
    "        for s in code:\n",
    "            if s == '(':\n",
    "                # начало выражения\n",
    "                stack.push('(')\n",
    "\n",
    "            elif s == ')':\n",
    "                # конец выражения\n",
    "                if stack.is_empty():\n",
    "                    return False\n",
    "\n",
    "                else:\n",
    "                    data = f'{nums.pop()}{operators.pop()}{nums.pop()}'\n",
    "                    nums.push(self._evaluate(data))\n",
    "                    stack.pop()\n",
    "\n",
    "            elif s.isdigit():\n",
    "                # Если цифра\n",
    "                nums.push(s)\n",
    "\n",
    "            else:\n",
    "                # если оператор\n",
    "                operators.push(s)\n",
    "\n",
    "        stack.pop()\n",
    "\n",
    "        if stack.is_empty():\n",
    "            return nums.pop()\n",
    "\n",
    "        return False\n",
    "\n",
    "    def _evaluate(self, code):\n",
    "        return eval(code)"
   ]
  },
  {
   "cell_type": "code",
   "execution_count": 7,
   "metadata": {},
   "outputs": [
    {
     "name": "stdout",
     "output_type": "stream",
     "text": [
      "8760\n"
     ]
    }
   ],
   "source": [
    "interpreter = Interpreter('10 + ( ( 122 + 3 ) * ( 14 * 5 ) )')\n",
    "print(interpreter.run())"
   ]
  },
  {
   "cell_type": "markdown",
   "metadata": {},
   "source": [
    "### Дополнительно 3"
   ]
  },
  {
   "cell_type": "markdown",
   "metadata": {},
   "source": [
    "### Ваше решение"
   ]
  },
  {
   "cell_type": "code",
   "execution_count": 8,
   "metadata": {},
   "outputs": [],
   "source": [
    "\n",
    "class Interpreter(InterpreterAbstract):\n",
    "    \n",
    "    def __init__(self, code=None, file=None):\n",
    "        super().__init__(code)\n",
    "        self.file = file\n",
    "\n",
    "    def run(self):\n",
    "        return self._parse(self.code, self.file)\n",
    "\n",
    "    @staticmethod\n",
    "    def reed_file(file_path: str) -> list:\n",
    "        with open(file_path, 'r') as file:\n",
    "            return file.readlines()\n",
    "\n",
    "    def _work(self, code):\n",
    "        code = list(code.replace(' ', ''))\n",
    "        code.insert(0, '(')\n",
    "        code.append(')')\n",
    "        best_code = []\n",
    "        memory = ''\n",
    "\n",
    "        for index, data in enumerate(code):\n",
    "            if data.isdigit():\n",
    "                if code[index + 1].isdigit():\n",
    "                    memory += data\n",
    "                elif memory != '':\n",
    "                    memory += data\n",
    "                    best_code.append(memory)\n",
    "                    memory = ''\n",
    "                else:\n",
    "                    best_code.append(data)\n",
    "\n",
    "\n",
    "            else:\n",
    "                best_code.append(data)\n",
    "\n",
    "        code = best_code\n",
    "        stack = Stack()\n",
    "        nums = Stack()\n",
    "        operators = Stack()\n",
    "\n",
    "        for s in code:\n",
    "            if s == '(':\n",
    "                # начало выражения\n",
    "                stack.push('(')\n",
    "\n",
    "            elif s == ')':\n",
    "                # конец выражения\n",
    "                if stack.is_empty():\n",
    "                    return False\n",
    "\n",
    "                else:\n",
    "                    data = f'{nums.pop()}{operators.pop()}{nums.pop()}'\n",
    "                    nums.push(self._evaluate(data))\n",
    "                    stack.pop()\n",
    "\n",
    "            elif s.isdigit():\n",
    "                # Если цифра\n",
    "                nums.push(s)\n",
    "\n",
    "            else:\n",
    "                # если оператор\n",
    "                operators.push(s)\n",
    "\n",
    "        stack.pop()\n",
    "\n",
    "        if stack.is_empty():\n",
    "            return int(nums.pop())\n",
    "\n",
    "        return False\n",
    "\n",
    "    def _parse(self, code, file_path=None):\n",
    "        decisions = []\n",
    "\n",
    "        if file_path is None:\n",
    "            decisions.append(self._work(code))\n",
    "\n",
    "        else:\n",
    "            examples = self.reed_file(file_path)\n",
    "            for value in examples:\n",
    "                value = str(value).replace('\\n', '')\n",
    "                decisions.append(self._work(value))\n",
    "\n",
    "        return decisions\n",
    "\n",
    "    def _evaluate(self, code):\n",
    "        return eval(code)"
   ]
  },
  {
   "cell_type": "markdown",
   "metadata": {},
   "source": [
    "### Самопроверка"
   ]
  },
  {
   "cell_type": "code",
   "execution_count": 9,
   "metadata": {},
   "outputs": [
    {
     "name": "stdout",
     "output_type": "stream",
     "text": [
      "[101, 2]\n"
     ]
    }
   ],
   "source": [
    "interpreter = Interpreter(file='code.txt')\n",
    "print(interpreter.run()) # [101, 2]"
   ]
  },
  {
   "cell_type": "markdown",
   "metadata": {
    "slideshow": {
     "slide_type": "-"
    }
   },
   "source": [
    "### Дополнительно 4"
   ]
  },
  {
   "cell_type": "markdown",
   "metadata": {},
   "source": [
    "### Ваше решение"
   ]
  },
  {
   "cell_type": "code",
   "execution_count": 10,
   "metadata": {},
   "outputs": [],
   "source": [
    "class Interpreter(InterpreterAbstract):\n",
    "\n",
    "    def __init__(self, code=None, file=None):\n",
    "        super().__init__(code)\n",
    "        self.file = file\n",
    "\n",
    "    def run(self):\n",
    "        return self._parse(self.code, self.file)\n",
    "\n",
    "    @staticmethod\n",
    "    def reed_file(file_path: str) -> list:\n",
    "        with open(file_path, 'r') as file:\n",
    "            return file.readlines()\n",
    "\n",
    "    def _work(self, code):\n",
    "        code = list(code.replace(' ', ''))\n",
    "        code.insert(0, '(')\n",
    "        code.append(')')\n",
    "        best_code = []\n",
    "        memory = ''\n",
    "\n",
    "        for index, data in enumerate(code):\n",
    "            if data.isdigit():\n",
    "                if code[index + 1].isdigit():\n",
    "                    memory += data\n",
    "                elif memory != '':\n",
    "                    memory += data\n",
    "                    best_code.append(memory)\n",
    "                    memory = ''\n",
    "                else:\n",
    "                    best_code.append(data)\n",
    "\n",
    "\n",
    "            else:\n",
    "                best_code.append(data)\n",
    "\n",
    "        code = best_code\n",
    "        stack = Stack()\n",
    "        nums = Stack()\n",
    "        operators = Stack()\n",
    "\n",
    "        for s in code:\n",
    "            if s == '(':\n",
    "                # начало выражения\n",
    "                stack.push('(')\n",
    "\n",
    "            elif s == ')':\n",
    "                # конец выражения\n",
    "                if stack.is_empty():\n",
    "                    return False\n",
    "\n",
    "                else:\n",
    "                    data = f'{nums.pop()}{operators.pop()}{nums.pop()}'\n",
    "                    nums.push(self._evaluate(data))\n",
    "                    stack.pop()\n",
    "\n",
    "            elif s.isdigit():\n",
    "                # Если цифра\n",
    "                nums.push(s)\n",
    "\n",
    "            else:\n",
    "                # если оператор\n",
    "                operators.push(s)\n",
    "\n",
    "        stack.pop()\n",
    "\n",
    "        if stack.is_empty():\n",
    "            return int(nums.pop())\n",
    "\n",
    "        return False\n",
    "\n",
    "    def _parse(self, code, file_path=None):\n",
    "        decisions = []\n",
    "\n",
    "        if file_path is None:\n",
    "            if self._validate(code):\n",
    "                decisions.append(self._work(code))\n",
    "\n",
    "        else:\n",
    "            examples = self.reed_file(file_path)\n",
    "            for value in examples:\n",
    "                value = str(value).replace('\\n', '')\n",
    "                if self._validate(value):\n",
    "                    decisions.append(self._work(value))\n",
    "\n",
    "\n",
    "        return decisions\n",
    "\n",
    "    def _evaluate(self, code):\n",
    "        return eval(code)\n",
    "\n",
    "    @staticmethod\n",
    "    def _validate(code):\n",
    "        stack = Stack()\n",
    "\n",
    "        for s in code:\n",
    "            if s == '(':\n",
    "                stack.push('(')\n",
    "\n",
    "            elif s == ')':\n",
    "                if stack.is_empty():\n",
    "                    raise ValueError('Баланс скобок нарушен!')\n",
    "\n",
    "                else:\n",
    "                    stack.pop()\n",
    "\n",
    "        if stack.is_empty():\n",
    "            return True\n",
    "\n",
    "        raise ValueError('Баланс скобок нарушен!')\n"
   ]
  },
  {
   "cell_type": "markdown",
   "metadata": {},
   "source": [
    "### Самопроверка"
   ]
  },
  {
   "cell_type": "code",
   "execution_count": 11,
   "metadata": {},
   "outputs": [
    {
     "name": "stdout",
     "output_type": "stream",
     "text": [
      "[101]\n",
      "Баланс скобок нарушен!\n"
     ]
    }
   ],
   "source": [
    "try:\n",
    "    interpreter = Interpreter('1 + ((2 + 3) * (4 * 5))')\n",
    "    print(interpreter.run())\n",
    "    interpreter = Interpreter('2 + ((2 * 3 / (4 ^ 5))')\n",
    "    print(interpreter.run())\n",
    "except ValueError as e:\n",
    "    print(e)"
   ]
  }
 ],
 "metadata": {
  "kernelspec": {
   "display_name": "Python 3",
   "language": "python",
   "name": "python3"
  },
  "language_info": {
   "codemirror_mode": {
    "name": "ipython",
    "version": 3
   },
   "file_extension": ".py",
   "mimetype": "text/x-python",
   "name": "python",
   "nbconvert_exporter": "python",
   "pygments_lexer": "ipython3",
   "version": "3.7.3"
  }
 },
 "nbformat": 4,
 "nbformat_minor": 2
}
