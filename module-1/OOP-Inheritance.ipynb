{
 "cells": [
  {
   "cell_type": "markdown",
   "metadata": {},
   "source": [
    "Практикум 2 | ООП: наследование\n",
    "\n",
    "Создайте класс User и его наследника класс SuperUser, которые описывают пользователя и супер-пользователя\n",
    "\n",
    "В классе User необходимо описать:\n",
    "\n",
    "- конструктор, который принимает в качестве параметров значения для атрибутов name, login и password\n",
    "- свойства для изменения и получения значений атрибутов\n",
    "- метод show_info, который печатает в произвольном формате значения атрибутов name и login\n",
    "- атрибут класса count для хранения количества созданных экземпляров класса User\n",
    "- Необходимые условия, которые надо учесть:\n",
    "\n",
    "атрибут name доступен и для чтения, и для изменения\n",
    "атрибут login доступен только для чтения\n",
    "атрибут password доступен только для изменения\n",
    "\n",
    "В классе SuperUser необходимо описать:\n",
    "\n",
    "конструктор, который принимает в качестве параметров значения для атрибутов name, login,  password и role\n",
    "свойство для изменения и получения значения атрибута role\n",
    "метод show_info, который печатает в произвольном формате значения атрибутов name, login и role\n",
    "атрибут класса count для хранения количества созданных экземпляров класса SuperUser"
   ]
  },
  {
   "cell_type": "code",
   "execution_count": 106,
   "metadata": {},
   "outputs": [],
   "source": [
    "import inspect\n",
    "\n",
    "class SuperUser:\n",
    "    count = 0\n",
    "    \n",
    "    def __init__(self, name, login, password, role=None):\n",
    "        \"\"\"\n",
    "        конструктор, который принимает в качестве параметров значения для \n",
    "        атрибутов name, login,  password и role\n",
    "        \"\"\"\n",
    "        self._role = role\n",
    "        self._name = name\n",
    "        self.__login = login\n",
    "        self.__password = password\n",
    "        \n",
    "        if self._role != None:\n",
    "            __class__.count += 1\n",
    "            \n",
    "    @property\n",
    "    def role(self):\n",
    "        return self._role\n",
    "    \n",
    "    @role.setter\n",
    "    def role(self, new_role):\n",
    "        self._role = new_role\n",
    "    \n",
    "    def show_info(self):\n",
    "        return f'{self.__login}: {self._role}'\n",
    "    \n",
    "    \n",
    "\n",
    "class User(SuperUser):\n",
    "    #атрибут класса count для хранения количества созданных экземпляров класса User\n",
    "    count = 0\n",
    "    \n",
    "    def __init__(self, name, login, password, role=None):\n",
    "        \"\"\"\n",
    "        конструктор, который принимает в качестве параметров \n",
    "        значения для атрибутов name, login и password\n",
    "        \"\"\"\n",
    "        self._name = name\n",
    "        self.__login = login\n",
    "        self.__password = password\n",
    "        \n",
    "        super().__init__(name, login, password, role)\n",
    "        \n",
    "        if role == None:\n",
    "            __class__.count += 1\n",
    "        \n",
    "        \n",
    "    #свойства для изменения и получения значений атрибутов\n",
    "    @property\n",
    "    def name(self):\n",
    "        #атрибут name доступен и для чтения, и для изменения\n",
    "        return self._name\n",
    "    \n",
    "    \n",
    "    @name.setter\n",
    "    def name(self, new_name: str):\n",
    "        self._name = new_name\n",
    "    \n",
    "    @property\n",
    "    def login(self):\n",
    "        #атрибут login доступен только для чтения\n",
    "        return self.__login\n",
    "    \n",
    "    \n",
    "    def set_password(self, new_password):\n",
    "        self.__password = new_password\n",
    "        \n",
    "    password = property(fset=set_password)\n",
    "    \n",
    "    def show_info(self):\n",
    "        #метод show_info, который печатает в произвольном формате значения атрибутов name и login\n",
    "        return f'{self._name}: {self.__login}'\n",
    "\n",
    "        \n",
    "        "
   ]
  },
  {
   "cell_type": "code",
   "execution_count": 107,
   "metadata": {},
   "outputs": [
    {
     "name": "stdout",
     "output_type": "stream",
     "text": [
      "Paul McCartney: paul\n",
      "John Lennon: john\n"
     ]
    }
   ],
   "source": [
    "user1 = User('Paul McCartney', 'paul', '1234')\n",
    "user2 = User('George Harrison', 'george', '5678')\n",
    "user3 = User('Richard Starkey', 'ringo', '8523')\n",
    "admin = User('John Lennon', 'john', '0000', 'admin')\n",
    "\n",
    "print(user1.show_info())\n",
    "print(admin.show_info())"
   ]
  },
  {
   "cell_type": "code",
   "execution_count": 108,
   "metadata": {},
   "outputs": [
    {
     "name": "stdout",
     "output_type": "stream",
     "text": [
      "Всего обычных пользователей: 3\n",
      "Всего супер-пользователей: 1\n"
     ]
    }
   ],
   "source": [
    "users = User.count\n",
    "admins = SuperUser.count\n",
    "\n",
    "print(f'Всего обычных пользователей: {users}')\n",
    "print(f'Всего супер-пользователей: {admins}')"
   ]
  },
  {
   "cell_type": "code",
   "execution_count": 109,
   "metadata": {},
   "outputs": [
    {
     "name": "stdout",
     "output_type": "stream",
     "text": [
      "Ringo Star\n"
     ]
    },
    {
     "ename": "AttributeError",
     "evalue": "unreadable attribute",
     "output_type": "error",
     "traceback": [
      "\u001b[0;31m---------------------------------------------------------------------------\u001b[0m",
      "\u001b[0;31mAttributeError\u001b[0m                            Traceback (most recent call last)",
      "\u001b[0;32m<ipython-input-109-f6979ed17e68>\u001b[0m in \u001b[0;36m<module>\u001b[0;34m\u001b[0m\n\u001b[1;32m      3\u001b[0m \u001b[0;34m\u001b[0m\u001b[0m\n\u001b[1;32m      4\u001b[0m \u001b[0mprint\u001b[0m\u001b[0;34m(\u001b[0m\u001b[0muser3\u001b[0m\u001b[0;34m.\u001b[0m\u001b[0mname\u001b[0m\u001b[0;34m)\u001b[0m\u001b[0;34m\u001b[0m\u001b[0;34m\u001b[0m\u001b[0m\n\u001b[0;32m----> 5\u001b[0;31m \u001b[0mprint\u001b[0m\u001b[0;34m(\u001b[0m\u001b[0muser2\u001b[0m\u001b[0;34m.\u001b[0m\u001b[0mpassword\u001b[0m\u001b[0;34m)\u001b[0m\u001b[0;34m\u001b[0m\u001b[0;34m\u001b[0m\u001b[0m\n\u001b[0m\u001b[1;32m      6\u001b[0m \u001b[0mprint\u001b[0m\u001b[0;34m(\u001b[0m\u001b[0muser2\u001b[0m\u001b[0;34m.\u001b[0m\u001b[0mlogin\u001b[0m\u001b[0;34m)\u001b[0m\u001b[0;34m\u001b[0m\u001b[0;34m\u001b[0m\u001b[0m\n\u001b[1;32m      7\u001b[0m \u001b[0;34m\u001b[0m\u001b[0m\n",
      "\u001b[0;31mAttributeError\u001b[0m: unreadable attribute"
     ]
    }
   ],
   "source": [
    "user3.name = 'Ringo Star'\n",
    "user1.password = 'Pa$$w0rd'\n",
    "\n",
    "print(user3.name)\n",
    "print(user2.password)\n",
    "print(user2.login)\n",
    "\n",
    "user2.login = 'geo'"
   ]
  }
 ],
 "metadata": {
  "kernelspec": {
   "display_name": "Python 3",
   "language": "python",
   "name": "python3"
  },
  "language_info": {
   "codemirror_mode": {
    "name": "ipython",
    "version": 3
   },
   "file_extension": ".py",
   "mimetype": "text/x-python",
   "name": "python",
   "nbconvert_exporter": "python",
   "pygments_lexer": "ipython3",
   "version": "3.7.3"
  }
 },
 "nbformat": 4,
 "nbformat_minor": 2
}
